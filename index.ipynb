{
 "cells": [
  {
   "cell_type": "markdown",
   "metadata": {},
   "source": [
    "# Skewness and Kurtosis - Lab\n",
    "\n",
    "## Introduction\n",
    "\n",
    "In this lab, you'll calculate skewness and kurtosis for a given dataset in SciPy using Python.\n",
    "\n",
    "## Objectives\n",
    "You will be able to:\n",
    "* Measure, visualize, and interpret the kurtosis of a dataset\n",
    "* Measure, visualize, and interpret the skewness of a dataset\n",
    "\n",
    "## Bring in SciPy\n",
    "In the previous lesson, you have seen formulas to calculate skewness and kurtosis for your data. SciPy comes packaged with these functions and provides an easy way to calculate these two quantities, see [scipy.stats.kurtosis](https://docs.scipy.org/doc/scipy/reference/generated/scipy.stats.kurtosis.html#scipy.stats.kurtosis) and [scipy.stats.skew](https://docs.scipy.org/doc/scipy/reference/generated/scipy.stats.skew.html). Check out the official SciPy documentation to dig deeper into this. Otherwise, simply pull up the documentation within the Jupyter notebook using `shit+tab` within the function call or pull up the full documentation with `kurtosis?` or `skew?`, once you have imported these methods from the SciPy package.\n",
    "\n",
    "Where $x$ is a random variable. \n",
    "\n",
    "You'll generate two datasets and measure/visualize and compare their skew and kurtosis in this lab."
   ]
  },
  {
   "cell_type": "code",
   "execution_count": 1,
   "metadata": {},
   "outputs": [],
   "source": [
    "# Import required libraries\n",
    "import numpy as np\n",
    "import matplotlib.pyplot as plt\n",
    "\n",
    "from scipy.stats import kurtosis, skew"
   ]
  },
  {
   "cell_type": "markdown",
   "metadata": {},
   "source": [
    "## Take 1\n",
    "* Generate a random normal variable `x_random` in NumPy with 10,000 values. Set the mean value to 0 and the standard deviation to 2.\n",
    "* Plot a histogram of the data, set bins to `auto` (default). \n",
    "* Calculate the skewness and kurtosis for this data distribution using the SciPy functions.\n",
    "* Record your observations about the calculated values and the shape of the data. "
   ]
  },
  {
   "cell_type": "code",
   "execution_count": 6,
   "metadata": {},
   "outputs": [
    {
     "data": {
      "text/plain": [
       "(0.047893454338503005, -0.0019098083259638243)"
      ]
     },
     "execution_count": 6,
     "metadata": {},
     "output_type": "execute_result"
    }
   ],
   "source": [
    "x_random = np.random.normal(0,2,10000)\n",
    "kurtosis(x_random),skew(x_random)\n",
    "# Skewness = -0.0025781248189666343\n",
    "# kurtosis = 0.03976806960642154\n"
   ]
  },
  {
   "cell_type": "code",
   "execution_count": 9,
   "metadata": {},
   "outputs": [
    {
     "data": {
      "text/plain": [
       "(array([  1.,   0.,   0.,   0.,   0.,   1.,   0.,   0.,   2.,   2.,   3.,\n",
       "          3.,   2.,   4.,   3.,   4.,   5.,  15.,   9.,  16.,  20.,  24.,\n",
       "         31.,  33.,  54.,  41.,  60.,  72.,  76.,  93.,  89., 104., 105.,\n",
       "        160., 156., 206., 209., 238., 243., 245., 258., 278., 302., 270.,\n",
       "        317., 359., 313., 358., 346., 324., 362., 333., 341., 295., 289.,\n",
       "        303., 267., 263., 239., 224., 194., 190., 160., 153., 130., 115.,\n",
       "         95., 103.,  90.,  66.,  58.,  54.,  42.,  35.,  26.,  21.,  18.,\n",
       "         25.,   5.,  14.,   6.,   5.,   4.,   4.,   3.,   6.,   4.,   0.,\n",
       "          2.,   0.,   0.,   1.,   0.,   0.,   0.,   0.,   0.,   0.,   0.,\n",
       "          1.]),\n",
       " array([-8.32852404, -8.15684479, -7.98516553, -7.81348628, -7.64180703,\n",
       "        -7.47012777, -7.29844852, -7.12676927, -6.95509001, -6.78341076,\n",
       "        -6.61173151, -6.44005225, -6.268373  , -6.09669374, -5.92501449,\n",
       "        -5.75333524, -5.58165598, -5.40997673, -5.23829748, -5.06661822,\n",
       "        -4.89493897, -4.72325972, -4.55158046, -4.37990121, -4.20822196,\n",
       "        -4.0365427 , -3.86486345, -3.69318419, -3.52150494, -3.34982569,\n",
       "        -3.17814643, -3.00646718, -2.83478793, -2.66310867, -2.49142942,\n",
       "        -2.31975017, -2.14807091, -1.97639166, -1.80471241, -1.63303315,\n",
       "        -1.4613539 , -1.28967465, -1.11799539, -0.94631614, -0.77463688,\n",
       "        -0.60295763, -0.43127838, -0.25959912, -0.08791987,  0.08375938,\n",
       "         0.25543864,  0.42711789,  0.59879714,  0.7704764 ,  0.94215565,\n",
       "         1.1138349 ,  1.28551416,  1.45719341,  1.62887267,  1.80055192,\n",
       "         1.97223117,  2.14391043,  2.31558968,  2.48726893,  2.65894819,\n",
       "         2.83062744,  3.00230669,  3.17398595,  3.3456652 ,  3.51734445,\n",
       "         3.68902371,  3.86070296,  4.03238221,  4.20406147,  4.37574072,\n",
       "         4.54741998,  4.71909923,  4.89077848,  5.06245774,  5.23413699,\n",
       "         5.40581624,  5.5774955 ,  5.74917475,  5.920854  ,  6.09253326,\n",
       "         6.26421251,  6.43589176,  6.60757102,  6.77925027,  6.95092952,\n",
       "         7.12260878,  7.29428803,  7.46596729,  7.63764654,  7.80932579,\n",
       "         7.98100505,  8.1526843 ,  8.32436355,  8.49604281,  8.66772206,\n",
       "         8.83940131]),\n",
       " <a list of 100 Patch objects>)"
      ]
     },
     "execution_count": 9,
     "metadata": {},
     "output_type": "execute_result"
    },
    {
     "data": {
      "image/png": "[encoded data removed]",
      "text/plain": [
       "<Figure size 432x288 with 1 Axes>"
      ]
     },
     "metadata": {
      "needs_background": "light"
     },
     "output_type": "display_data"
    }
   ],
   "source": [
    "# Your observations here \n",
    "plt.hist(x_random,bins=100)\n",
    "\n",
    "#\n",
    "#\n",
    "#"
   ]
  },
  {
   "cell_type": "markdown",
   "metadata": {},
   "source": [
    "## Take 2\n",
    "\n",
    "Let's generate another distribution "
   ]
  },
  {
   "cell_type": "code",
   "execution_count": 10,
   "metadata": {},
   "outputs": [],
   "source": [
    "x = np.linspace( -5, 5, 10000 )\n",
    "y = 1./(np.sqrt(2.*np.pi)) * np.exp( -.5*(x)**2  )  # normal distribution"
   ]
  },
  {
   "cell_type": "markdown",
   "metadata": {},
   "source": [
    "* Plot a histogram for data $y$, and set bins to auto (default).\n",
    "* Calculate the skewness and kurtosis for this data distribution using the SciPy functions.\n",
    "* Record your observations about the calculated values and the shape of the data."
   ]
  },
  {
   "cell_type": "code",
   "execution_count": 12,
   "metadata": {},
   "outputs": [
    {
     "data": {
      "text/plain": [
       "(1.109511549276228, -0.3103902776588985)"
      ]
     },
     "execution_count": 12,
     "metadata": {},
     "output_type": "execute_result"
    }
   ],
   "source": [
    "skew(y),kurtosis(y)\n",
    "# Skewness = 1.109511549276228\n",
    "# kurtosis = -0.31039027765889804"
   ]
  },
  {
   "cell_type": "code",
   "execution_count": 15,
   "metadata": {},
   "outputs": [
    {
     "data": {
      "text/plain": [
       "(array([5708.,  704.,  484.,  396.,  354.,  332.,  332.,  354.,  418.,\n",
       "         918.]),\n",
       " array([1.48671951e-06, 3.98955611e-02, 7.97896355e-02, 1.19683710e-01,\n",
       "        1.59577784e-01, 1.99471859e-01, 2.39365933e-01, 2.79260007e-01,\n",
       "        3.19154082e-01, 3.59048156e-01, 3.98942231e-01]),\n",
       " <a list of 10 Patch objects>)"
      ]
     },
     "execution_count": 15,
     "metadata": {},
     "output_type": "execute_result"
    },
    {
     "data": {
      "image/png": "[encoded data removed]",
      "text/plain": [
       "<Figure size 432x288 with 1 Axes>"
      ]
     },
     "metadata": {
      "needs_background": "light"
     },
     "output_type": "display_data"
    }
   ],
   "source": [
    "# Your observations here \n",
    "plt.hist(y)\n",
    "#\n",
    "#\n",
    "#"
   ]
  },
  {
   "cell_type": "markdown",
   "metadata": {},
   "source": [
    "## Summary\n",
    "\n",
    "In this lesson we learned how to calculate, visualize, and analyze the skewness and kurtosis for any given distribution. We worked with synthetic datasets at this stage to get the concepts cleared up. Later we will try these techniques on real datasets to see if they are fit for analysis (or not). "
   ]
  }
 ],
 "metadata": {
  "kernelspec": {
   "display_name": "Python 3",
   "language": "python",
   "name": "python3"
  },
  "language_info": {
   "codemirror_mode": {
    "name": "ipython",
    "version": 3
   },
   "file_extension": ".py",
   "mimetype": "text/x-python",
   "name": "python",
   "nbconvert_exporter": "python",
   "pygments_lexer": "ipython3",
   "version": "3.6.6"
  }
 },
 "nbformat": 4,
 "nbformat_minor": 2
}
